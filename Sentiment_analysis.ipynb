{
  "nbformat": 4,
  "nbformat_minor": 0,
  "metadata": {
    "colab": {
      "provenance": [],
      "gpuType": "T4",
      "authorship_tag": "ABX9TyNAyLb8KCRvTJmRJVTMFBc0"
    },
    "kernelspec": {
      "name": "python3",
      "display_name": "Python 3"
    },
    "language_info": {
      "name": "python"
    },
    "accelerator": "GPU"
  },
  "cells": [
    {
      "cell_type": "code",
      "execution_count": null,
      "metadata": {
        "id": "hGGTYn0E_NQv"
      },
      "outputs": [],
      "source": [
        "# Import necessary libraries\n",
        "import numpy as np\n",
        "import pandas as pd\n",
        "import matplotlib.pyplot as plt\n",
        "from sklearn.model_selection import train_test_split\n",
        "from sklearn.feature_extraction.text import TfidfVectorizer\n",
        "from sklearn.svm import SVC\n",
        "from sklearn.metrics import accuracy_score, confusion_matrix, classification_report\n",
        "\n",
        "# Load the Amazon Customer Reviews (US) dataset\n",
        "# You can download the dataset from https://registry.opendata.aws/amazon-reviews/\n",
        "# Ensure to replace 'path/to/amazon_reviews_us_Electronics_v1_00.tsv.gz' with the actual path to the dataset\n",
        "df = pd.read_csv('path/to/amazon_reviews_us_Electronics_v1_00.tsv.gz', sep='\\t', error_bad_lines=False)\n",
        "\n",
        "# Explore the dataset\n",
        "print(df.head())\n",
        "\n",
        "# Check for missing values\n",
        "print(df.isnull().sum())\n",
        "\n",
        "# Subsample the data for faster execution (you can use the full dataset for more accuracy)\n",
        "df = df.sample(frac=0.1, random_state=42)\n",
        "\n",
        "# Select relevant columns for sentiment analysis\n",
        "df = df[['star_rating', 'review_body']]\n",
        "\n",
        "# Map star ratings to sentiments (positive: 4-5 stars, negative: 1-3 stars)\n",
        "df['sentiment'] = df['star_rating'].apply(lambda x: 1 if x > 3 else 0)\n",
        "\n",
        "# Feature selection and split the data\n",
        "X = df['review_body'].values\n",
        "y = df['sentiment'].values\n",
        "\n",
        "# Split the data into training and testing sets\n",
        "X_train, X_test, y_train, y_test = train_test_split(X, y, test_size=0.2, random_state=42)\n",
        "\n",
        "# TF-IDF Vectorization for text reviews\n",
        "vectorizer = TfidfVectorizer(stop_words='english', max_features=5000)\n",
        "X_train_tfidf = vectorizer.fit_transform(X_train)\n",
        "X_test_tfidf = vectorizer.transform(X_test)\n",
        "\n",
        "# Train the Support Vector Machine (SVM) model\n",
        "svm_model = SVC(kernel='linear', random_state=42)\n",
        "svm_model.fit(X_train_tfidf, y_train)\n",
        "\n",
        "# Make predictions\n",
        "y_pred = svm_model.predict(X_test_tfidf)\n",
        "\n",
        "# Evaluate the model\n",
        "accuracy = accuracy_score(y_test, y_pred)\n",
        "conf_matrix = confusion_matrix(y_test, y_pred)\n",
        "classification_report_str = classification_report(y_test, y_pred)\n",
        "\n",
        "# Display results\n",
        "print(f\"Accuracy: {accuracy}\")\n",
        "print(f\"Confusion Matrix:\\n{conf_matrix}\")\n",
        "print(f\"Classification Report:\\n{classification_report_str}\")\n",
        "\n",
        "# Visualize the results\n",
        "plt.figure(figsize=(6, 6))\n",
        "plt.imshow(conf_matrix, interpolation='nearest', cmap=plt.cm.Blues)\n",
        "plt.title('Confusion Matrix')\n",
        "plt.colorbar()\n",
        "plt.xlabel('Predicted Label')\n",
        "plt.ylabel('True Label')\n",
        "plt.show()\n"
      ]
    }
  ]
}